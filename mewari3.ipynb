{
 "cells": [
  {
   "cell_type": "markdown",
   "id": "a454edd3",
   "metadata": {},
   "source": [
    "### 1. Write a python program which searches all the product under a particular product from www.amazon.in. The product to be searched will be taken as input from user. For e.g. If user input is ‘guitar’. Then search for guitars."
   ]
  },
  {
   "cell_type": "code",
   "execution_count": 1,
   "id": "e498f5b3",
   "metadata": {},
   "outputs": [],
   "source": [
    "import selenium\n",
    "import pandas as pd\n",
    "import time\n",
    "from bs4 import BeautifulSoup\n",
    "\n",
    "#Importing selenium webdriver\n",
    "from selenium import webdriver\n",
    "\n",
    "from selenium.common.exceptions import StaleElementReferenceException,NoSuchElementException\n",
    "\n",
    "import requests\n",
    "from selenium.webdriver.common.by import By"
   ]
  },
  {
   "cell_type": "code",
   "execution_count": 14,
   "id": "b7fdb420",
   "metadata": {},
   "outputs": [
    {
     "name": "stderr",
     "output_type": "stream",
     "text": [
      "C:\\Users\\lenovo\\AppData\\Local\\Temp\\ipykernel_8712\\4099818419.py:1: DeprecationWarning: executable_path has been deprecated, please pass in a Service object\n",
      "  driver=webdriver.Firefox(executable_path=r\"C:\\Users\\lenovo\\Downloads\\geckodriver-v0.33.0-win64\\geckodriver\")\n"
     ]
    }
   ],
   "source": [
    "driver=webdriver.Firefox(executable_path=r\"C:\\Users\\lenovo\\Downloads\\geckodriver-v0.33.0-win64\\geckodriver\")\n",
    "\n"
   ]
  },
  {
   "cell_type": "code",
   "execution_count": 20,
   "id": "53c1faa1",
   "metadata": {},
   "outputs": [
    {
     "name": "stderr",
     "output_type": "stream",
     "text": [
      "C:\\Users\\lenovo\\AppData\\Local\\Temp\\ipykernel_8712\\66263661.py:1: DeprecationWarning: executable_path has been deprecated, please pass in a Service object\n",
      "  driver=webdriver.Chrome(executable_path=r\"C:\\Users\\lenovo\\Downloads\\chromedriver-win32\\chromedriver-win32\")\n"
     ]
    },
    {
     "ename": "SessionNotCreatedException",
     "evalue": "Message: session not created: This version of ChromeDriver only supports Chrome version 114\nCurrent browser version is 118.0.5993.71 with binary path C:\\Program Files\\Google\\Chrome\\Application\\chrome.exe\nStacktrace:\nBacktrace:\n\tGetHandleVerifier [0x00BCA813+48355]\n\t(No symbol) [0x00B5C4B1]\n\t(No symbol) [0x00A65358]\n\t(No symbol) [0x00A861AC]\n\t(No symbol) [0x00A81EF3]\n\t(No symbol) [0x00A80579]\n\t(No symbol) [0x00AB0C55]\n\t(No symbol) [0x00AB093C]\n\t(No symbol) [0x00AAA536]\n\t(No symbol) [0x00A882DC]\n\t(No symbol) [0x00A893DD]\n\tGetHandleVerifier [0x00E2AABD+2539405]\n\tGetHandleVerifier [0x00E6A78F+2800735]\n\tGetHandleVerifier [0x00E6456C+2775612]\n\tGetHandleVerifier [0x00C551E0+616112]\n\t(No symbol) [0x00B65F8C]\n\t(No symbol) [0x00B62328]\n\t(No symbol) [0x00B6240B]\n\t(No symbol) [0x00B54FF7]\n\tBaseThreadInitThunk [0x75CA8674+36]\n\tRtlGetAppContainerNamedObjectPath [0x77AB5E17+311]\n\tRtlGetAppContainerNamedObjectPath [0x77AB5DE7+263]\n",
     "output_type": "error",
     "traceback": [
      "\u001b[1;31m---------------------------------------------------------------------------\u001b[0m",
      "\u001b[1;31mSessionNotCreatedException\u001b[0m                Traceback (most recent call last)",
      "Cell \u001b[1;32mIn[20], line 1\u001b[0m\n\u001b[1;32m----> 1\u001b[0m driver\u001b[38;5;241m=\u001b[39m\u001b[43mwebdriver\u001b[49m\u001b[38;5;241;43m.\u001b[39;49m\u001b[43mChrome\u001b[49m\u001b[43m(\u001b[49m\u001b[43mexecutable_path\u001b[49m\u001b[38;5;241;43m=\u001b[39;49m\u001b[38;5;124;43mr\u001b[39;49m\u001b[38;5;124;43m\"\u001b[39;49m\u001b[38;5;124;43mC:\u001b[39;49m\u001b[38;5;124;43m\\\u001b[39;49m\u001b[38;5;124;43mUsers\u001b[39;49m\u001b[38;5;124;43m\\\u001b[39;49m\u001b[38;5;124;43mlenovo\u001b[39;49m\u001b[38;5;124;43m\\\u001b[39;49m\u001b[38;5;124;43mDownloads\u001b[39;49m\u001b[38;5;124;43m\\\u001b[39;49m\u001b[38;5;124;43mchromedriver-win32\u001b[39;49m\u001b[38;5;124;43m\\\u001b[39;49m\u001b[38;5;124;43mchromedriver-win32\u001b[39;49m\u001b[38;5;124;43m\"\u001b[39;49m\u001b[43m)\u001b[49m\n",
      "File \u001b[1;32m~\\anaconda3\\lib\\site-packages\\selenium\\webdriver\\chrome\\webdriver.py:84\u001b[0m, in \u001b[0;36mWebDriver.__init__\u001b[1;34m(self, executable_path, port, options, service_args, desired_capabilities, service_log_path, chrome_options, service, keep_alive)\u001b[0m\n\u001b[0;32m     81\u001b[0m     service \u001b[38;5;241m=\u001b[39m Service(executable_path, port, service_args, service_log_path)\n\u001b[0;32m     82\u001b[0m service\u001b[38;5;241m.\u001b[39mpath \u001b[38;5;241m=\u001b[39m DriverFinder\u001b[38;5;241m.\u001b[39mget_path(service, options)\n\u001b[1;32m---> 84\u001b[0m \u001b[38;5;28;43msuper\u001b[39;49m\u001b[43m(\u001b[49m\u001b[43m)\u001b[49m\u001b[38;5;241;43m.\u001b[39;49m\u001b[38;5;21;43m__init__\u001b[39;49m\u001b[43m(\u001b[49m\n\u001b[0;32m     85\u001b[0m \u001b[43m    \u001b[49m\u001b[43mDesiredCapabilities\u001b[49m\u001b[38;5;241;43m.\u001b[39;49m\u001b[43mCHROME\u001b[49m\u001b[43m[\u001b[49m\u001b[38;5;124;43m\"\u001b[39;49m\u001b[38;5;124;43mbrowserName\u001b[39;49m\u001b[38;5;124;43m\"\u001b[39;49m\u001b[43m]\u001b[49m\u001b[43m,\u001b[49m\n\u001b[0;32m     86\u001b[0m \u001b[43m    \u001b[49m\u001b[38;5;124;43m\"\u001b[39;49m\u001b[38;5;124;43mgoog\u001b[39;49m\u001b[38;5;124;43m\"\u001b[39;49m\u001b[43m,\u001b[49m\n\u001b[0;32m     87\u001b[0m \u001b[43m    \u001b[49m\u001b[43mport\u001b[49m\u001b[43m,\u001b[49m\n\u001b[0;32m     88\u001b[0m \u001b[43m    \u001b[49m\u001b[43moptions\u001b[49m\u001b[43m,\u001b[49m\n\u001b[0;32m     89\u001b[0m \u001b[43m    \u001b[49m\u001b[43mservice_args\u001b[49m\u001b[43m,\u001b[49m\n\u001b[0;32m     90\u001b[0m \u001b[43m    \u001b[49m\u001b[43mdesired_capabilities\u001b[49m\u001b[43m,\u001b[49m\n\u001b[0;32m     91\u001b[0m \u001b[43m    \u001b[49m\u001b[43mservice_log_path\u001b[49m\u001b[43m,\u001b[49m\n\u001b[0;32m     92\u001b[0m \u001b[43m    \u001b[49m\u001b[43mservice\u001b[49m\u001b[43m,\u001b[49m\n\u001b[0;32m     93\u001b[0m \u001b[43m    \u001b[49m\u001b[43mkeep_alive\u001b[49m\u001b[43m,\u001b[49m\n\u001b[0;32m     94\u001b[0m \u001b[43m\u001b[49m\u001b[43m)\u001b[49m\n",
      "File \u001b[1;32m~\\anaconda3\\lib\\site-packages\\selenium\\webdriver\\chromium\\webdriver.py:104\u001b[0m, in \u001b[0;36mChromiumDriver.__init__\u001b[1;34m(self, browser_name, vendor_prefix, port, options, service_args, desired_capabilities, service_log_path, service, keep_alive)\u001b[0m\n\u001b[0;32m    101\u001b[0m \u001b[38;5;28mself\u001b[39m\u001b[38;5;241m.\u001b[39mservice\u001b[38;5;241m.\u001b[39mstart()\n\u001b[0;32m    103\u001b[0m \u001b[38;5;28;01mtry\u001b[39;00m:\n\u001b[1;32m--> 104\u001b[0m     \u001b[38;5;28;43msuper\u001b[39;49m\u001b[43m(\u001b[49m\u001b[43m)\u001b[49m\u001b[38;5;241;43m.\u001b[39;49m\u001b[38;5;21;43m__init__\u001b[39;49m\u001b[43m(\u001b[49m\n\u001b[0;32m    105\u001b[0m \u001b[43m        \u001b[49m\u001b[43mcommand_executor\u001b[49m\u001b[38;5;241;43m=\u001b[39;49m\u001b[43mChromiumRemoteConnection\u001b[49m\u001b[43m(\u001b[49m\n\u001b[0;32m    106\u001b[0m \u001b[43m            \u001b[49m\u001b[43mremote_server_addr\u001b[49m\u001b[38;5;241;43m=\u001b[39;49m\u001b[38;5;28;43mself\u001b[39;49m\u001b[38;5;241;43m.\u001b[39;49m\u001b[43mservice\u001b[49m\u001b[38;5;241;43m.\u001b[39;49m\u001b[43mservice_url\u001b[49m\u001b[43m,\u001b[49m\n\u001b[0;32m    107\u001b[0m \u001b[43m            \u001b[49m\u001b[43mbrowser_name\u001b[49m\u001b[38;5;241;43m=\u001b[39;49m\u001b[43mbrowser_name\u001b[49m\u001b[43m,\u001b[49m\n\u001b[0;32m    108\u001b[0m \u001b[43m            \u001b[49m\u001b[43mvendor_prefix\u001b[49m\u001b[38;5;241;43m=\u001b[39;49m\u001b[43mvendor_prefix\u001b[49m\u001b[43m,\u001b[49m\n\u001b[0;32m    109\u001b[0m \u001b[43m            \u001b[49m\u001b[43mkeep_alive\u001b[49m\u001b[38;5;241;43m=\u001b[39;49m\u001b[43mkeep_alive\u001b[49m\u001b[43m,\u001b[49m\n\u001b[0;32m    110\u001b[0m \u001b[43m            \u001b[49m\u001b[43mignore_proxy\u001b[49m\u001b[38;5;241;43m=\u001b[39;49m\u001b[43m_ignore_proxy\u001b[49m\u001b[43m,\u001b[49m\n\u001b[0;32m    111\u001b[0m \u001b[43m        \u001b[49m\u001b[43m)\u001b[49m\u001b[43m,\u001b[49m\n\u001b[0;32m    112\u001b[0m \u001b[43m        \u001b[49m\u001b[43moptions\u001b[49m\u001b[38;5;241;43m=\u001b[39;49m\u001b[43moptions\u001b[49m\u001b[43m,\u001b[49m\n\u001b[0;32m    113\u001b[0m \u001b[43m    \u001b[49m\u001b[43m)\u001b[49m\n\u001b[0;32m    114\u001b[0m \u001b[38;5;28;01mexcept\u001b[39;00m \u001b[38;5;167;01mException\u001b[39;00m:\n\u001b[0;32m    115\u001b[0m     \u001b[38;5;28mself\u001b[39m\u001b[38;5;241m.\u001b[39mquit()\n",
      "File \u001b[1;32m~\\anaconda3\\lib\\site-packages\\selenium\\webdriver\\remote\\webdriver.py:286\u001b[0m, in \u001b[0;36mWebDriver.__init__\u001b[1;34m(self, command_executor, desired_capabilities, browser_profile, proxy, keep_alive, file_detector, options)\u001b[0m\n\u001b[0;32m    284\u001b[0m \u001b[38;5;28mself\u001b[39m\u001b[38;5;241m.\u001b[39m_authenticator_id \u001b[38;5;241m=\u001b[39m \u001b[38;5;28;01mNone\u001b[39;00m\n\u001b[0;32m    285\u001b[0m \u001b[38;5;28mself\u001b[39m\u001b[38;5;241m.\u001b[39mstart_client()\n\u001b[1;32m--> 286\u001b[0m \u001b[38;5;28;43mself\u001b[39;49m\u001b[38;5;241;43m.\u001b[39;49m\u001b[43mstart_session\u001b[49m\u001b[43m(\u001b[49m\u001b[43mcapabilities\u001b[49m\u001b[43m,\u001b[49m\u001b[43m \u001b[49m\u001b[43mbrowser_profile\u001b[49m\u001b[43m)\u001b[49m\n",
      "File \u001b[1;32m~\\anaconda3\\lib\\site-packages\\selenium\\webdriver\\remote\\webdriver.py:378\u001b[0m, in \u001b[0;36mWebDriver.start_session\u001b[1;34m(self, capabilities, browser_profile)\u001b[0m\n\u001b[0;32m    376\u001b[0m w3c_caps \u001b[38;5;241m=\u001b[39m _make_w3c_caps(capabilities)\n\u001b[0;32m    377\u001b[0m parameters \u001b[38;5;241m=\u001b[39m {\u001b[38;5;124m\"\u001b[39m\u001b[38;5;124mcapabilities\u001b[39m\u001b[38;5;124m\"\u001b[39m: w3c_caps}\n\u001b[1;32m--> 378\u001b[0m response \u001b[38;5;241m=\u001b[39m \u001b[38;5;28;43mself\u001b[39;49m\u001b[38;5;241;43m.\u001b[39;49m\u001b[43mexecute\u001b[49m\u001b[43m(\u001b[49m\u001b[43mCommand\u001b[49m\u001b[38;5;241;43m.\u001b[39;49m\u001b[43mNEW_SESSION\u001b[49m\u001b[43m,\u001b[49m\u001b[43m \u001b[49m\u001b[43mparameters\u001b[49m\u001b[43m)\u001b[49m\n\u001b[0;32m    379\u001b[0m \u001b[38;5;28;01mif\u001b[39;00m \u001b[38;5;124m\"\u001b[39m\u001b[38;5;124msessionId\u001b[39m\u001b[38;5;124m\"\u001b[39m \u001b[38;5;129;01mnot\u001b[39;00m \u001b[38;5;129;01min\u001b[39;00m response:\n\u001b[0;32m    380\u001b[0m     response \u001b[38;5;241m=\u001b[39m response[\u001b[38;5;124m\"\u001b[39m\u001b[38;5;124mvalue\u001b[39m\u001b[38;5;124m\"\u001b[39m]\n",
      "File \u001b[1;32m~\\anaconda3\\lib\\site-packages\\selenium\\webdriver\\remote\\webdriver.py:440\u001b[0m, in \u001b[0;36mWebDriver.execute\u001b[1;34m(self, driver_command, params)\u001b[0m\n\u001b[0;32m    438\u001b[0m response \u001b[38;5;241m=\u001b[39m \u001b[38;5;28mself\u001b[39m\u001b[38;5;241m.\u001b[39mcommand_executor\u001b[38;5;241m.\u001b[39mexecute(driver_command, params)\n\u001b[0;32m    439\u001b[0m \u001b[38;5;28;01mif\u001b[39;00m response:\n\u001b[1;32m--> 440\u001b[0m     \u001b[38;5;28;43mself\u001b[39;49m\u001b[38;5;241;43m.\u001b[39;49m\u001b[43merror_handler\u001b[49m\u001b[38;5;241;43m.\u001b[39;49m\u001b[43mcheck_response\u001b[49m\u001b[43m(\u001b[49m\u001b[43mresponse\u001b[49m\u001b[43m)\u001b[49m\n\u001b[0;32m    441\u001b[0m     response[\u001b[38;5;124m\"\u001b[39m\u001b[38;5;124mvalue\u001b[39m\u001b[38;5;124m\"\u001b[39m] \u001b[38;5;241m=\u001b[39m \u001b[38;5;28mself\u001b[39m\u001b[38;5;241m.\u001b[39m_unwrap_value(response\u001b[38;5;241m.\u001b[39mget(\u001b[38;5;124m\"\u001b[39m\u001b[38;5;124mvalue\u001b[39m\u001b[38;5;124m\"\u001b[39m, \u001b[38;5;28;01mNone\u001b[39;00m))\n\u001b[0;32m    442\u001b[0m     \u001b[38;5;28;01mreturn\u001b[39;00m response\n",
      "File \u001b[1;32m~\\anaconda3\\lib\\site-packages\\selenium\\webdriver\\remote\\errorhandler.py:245\u001b[0m, in \u001b[0;36mErrorHandler.check_response\u001b[1;34m(self, response)\u001b[0m\n\u001b[0;32m    243\u001b[0m         alert_text \u001b[38;5;241m=\u001b[39m value[\u001b[38;5;124m\"\u001b[39m\u001b[38;5;124malert\u001b[39m\u001b[38;5;124m\"\u001b[39m]\u001b[38;5;241m.\u001b[39mget(\u001b[38;5;124m\"\u001b[39m\u001b[38;5;124mtext\u001b[39m\u001b[38;5;124m\"\u001b[39m)\n\u001b[0;32m    244\u001b[0m     \u001b[38;5;28;01mraise\u001b[39;00m exception_class(message, screen, stacktrace, alert_text)  \u001b[38;5;66;03m# type: ignore[call-arg]  # mypy is not smart enough here\u001b[39;00m\n\u001b[1;32m--> 245\u001b[0m \u001b[38;5;28;01mraise\u001b[39;00m exception_class(message, screen, stacktrace)\n",
      "\u001b[1;31mSessionNotCreatedException\u001b[0m: Message: session not created: This version of ChromeDriver only supports Chrome version 114\nCurrent browser version is 118.0.5993.71 with binary path C:\\Program Files\\Google\\Chrome\\Application\\chrome.exe\nStacktrace:\nBacktrace:\n\tGetHandleVerifier [0x00BCA813+48355]\n\t(No symbol) [0x00B5C4B1]\n\t(No symbol) [0x00A65358]\n\t(No symbol) [0x00A861AC]\n\t(No symbol) [0x00A81EF3]\n\t(No symbol) [0x00A80579]\n\t(No symbol) [0x00AB0C55]\n\t(No symbol) [0x00AB093C]\n\t(No symbol) [0x00AAA536]\n\t(No symbol) [0x00A882DC]\n\t(No symbol) [0x00A893DD]\n\tGetHandleVerifier [0x00E2AABD+2539405]\n\tGetHandleVerifier [0x00E6A78F+2800735]\n\tGetHandleVerifier [0x00E6456C+2775612]\n\tGetHandleVerifier [0x00C551E0+616112]\n\t(No symbol) [0x00B65F8C]\n\t(No symbol) [0x00B62328]\n\t(No symbol) [0x00B6240B]\n\t(No symbol) [0x00B54FF7]\n\tBaseThreadInitThunk [0x75CA8674+36]\n\tRtlGetAppContainerNamedObjectPath [0x77AB5E17+311]\n\tRtlGetAppContainerNamedObjectPath [0x77AB5DE7+263]\n"
     ]
    }
   ],
   "source": [
    "\n",
    "driver=webdriver.Chrome(executable_path=r\"C:\\Users\\lenovo\\Downloads\\chromedriver-win32\\chromedriver-win32\")"
   ]
  },
  {
   "cell_type": "code",
   "execution_count": 16,
   "id": "eb44cb93",
   "metadata": {},
   "outputs": [],
   "source": [
    "driver.get('https://www.amazon.in/')"
   ]
  },
  {
   "cell_type": "code",
   "execution_count": 17,
   "id": "8d227eb1",
   "metadata": {},
   "outputs": [
    {
     "name": "stdout",
     "output_type": "stream",
     "text": [
      "Enter the input:Guitar\n"
     ]
    }
   ],
   "source": [
    "val=input('Enter the input:')"
   ]
  },
  {
   "cell_type": "code",
   "execution_count": 18,
   "id": "3ee7d4d6",
   "metadata": {},
   "outputs": [],
   "source": [
    "#user input\n",
    "lap=driver.find_element(By.XPATH,'/html/body/div[1]/header/div/div[1]/div[2]/div/form/div[2]/div[1]/input')\n",
    "lap.send_keys(val)\n",
    "\n",
    "#search button\n",
    "search=driver.find_element(By.XPATH,'/html/body/div[1]/header/div/div[1]/div[2]/div/form/div[3]/div/span/input')\n",
    "search.click()"
   ]
  },
  {
   "cell_type": "markdown",
   "id": "d2a94838",
   "metadata": {},
   "source": [
    "### 2. In the above question, now scrape the following details of each product listed in first 3 pages of your search results and save it in a data frame and csv. In case if any product has less than 3 pages in search results then scrape all the products available under that product name. Details to be scraped are: \"Brand Name\", \"Name of the Product\", \"Price\", \"Return/Exchange\", \"Expected Delivery\", \"Availability\" and “Product URL”. In case, if any of the details are missing for any of the product then replace it by “-“."
   ]
  },
  {
   "cell_type": "code",
   "execution_count": 36,
   "id": "6e349c80",
   "metadata": {},
   "outputs": [],
   "source": [
    "product_url=[]\n",
    "start=0\n",
    "end=3\n",
    "for page in range(start,end):\n",
    "    url=driver.find_elements(By.XPATH,'//a[@class=\"a-link-normal s-underline-text s-underline-link-text s-link-style a-text-normal\"]')\n",
    "    for i in url:\n",
    "        product_url.append(i.get_attribute('href'))\n",
    "    next_button=driver.find_elements(By.XPATH,\"/html/body/div[1]/div[2]/div[1]/div[1]/div/span[1]/div[1]/div[64]/div/div/span/a[3]\")"
   ]
  },
  {
   "cell_type": "code",
   "execution_count": 37,
   "id": "186c3f59",
   "metadata": {},
   "outputs": [],
   "source": [
    "Brand_name=[]\n",
    "Name=[]\n",
    "Price=[]\n",
    "Return_exchange=[]\n",
    "Expected_Delivery=[]\n",
    "Availability=[]\n",
    "for i in product_url:\n",
    "    driver.get(i)\n",
    "    time.sleep(3)\n",
    "    #For Brand name\n",
    "    try:\n",
    "        brand=driver.find_element(By.XPATH,'/html/body/div[2]/div[2]/div[5]/div[3]/div[4]/div[45]/div/table/tbody/tr[1]/td[2]/span')\n",
    "        Brand_name.append(brand.text)\n",
    "    except NoSuchElementException :\n",
    "        Brand_name.append('-')\n",
    "    \n",
    "     #For Product name\n",
    "    try:\n",
    "        product=driver.find_element(By.XPATH,'/html/body/div[2]/div[2]/div[5]/div[3]/div[4]/div[1]/div/h1/span')\n",
    "        Name.append(product.text)\n",
    "    except NoSuchElementException :\n",
    "        Name.append('-')\n",
    "    \n",
    "    #For Price\n",
    "    try:\n",
    "        price=driver.find_element(By.XPATH,'/html/body/div[2]/div[2]/div[5]/div[3]/div[4]/div[10]/div[3]/div[1]/span[2]/span[2]/span[2]')\n",
    "        Price.append(price.text)\n",
    "    except NoSuchElementException :\n",
    "        Price.append('-')\n",
    "    \n",
    "     #For Return or exchange\n",
    "    try:\n",
    "        return_exchange=driver.find_element(By.XPATH,'/html/body/div[2]/div[2]/div[5]/div[3]/div[4]/div[22]/div[2]/div/div/div/div[2]/div/ol/li[3]/div/span/div[2]/span')\n",
    "        Return_exchange.append(return_exchange.text)\n",
    "    except NoSuchElementException :\n",
    "        Return_exchange.append('-')\n",
    "    \n",
    "     #For Expected Delivery\n",
    "    try:\n",
    "        delivery=driver.find_element(By.XPATH,'/html/body/div[2]/div[2]/div[5]/div[3]/div[1]/div[3]/div/div[1]/div/div/div/form/div/div/div/div/div[3]/div/div[2]/div[9]/div[1]/div/div/div/span/span[1]')\n",
    "        Expected_Delivery.append(delivery.text)\n",
    "    except NoSuchElementException :\n",
    "        Expected_Delivery.append('-')\n",
    "    \n",
    "    #For Availability\n",
    "    try:\n",
    "        avail=driver.find_element(By.XPATH,'/html/body/div[2]/div[2]/div[5]/div[3]/div[1]/div[3]/div/div[1]/div/div/div/form/div/div/div/div/div[3]/div/div[4]/div/div[1]/span')\n",
    "        Availability.append(avail.text)\n",
    "    except NoSuchElementException :\n",
    "        Availability.append('-')"
   ]
  },
  {
   "cell_type": "code",
   "execution_count": 42,
   "id": "b81d0df4",
   "metadata": {},
   "outputs": [],
   "source": [
    "df=pd.DataFrame({'Brand Name':Brand_name,'Name of the Product':Name,'Price':Price,'Return/Exchange':Return_exchange,'Expected Delivery':Expected_Delivery,'Availability':Availability,'Product URL':product_url})"
   ]
  },
  {
   "cell_type": "code",
   "execution_count": 43,
   "id": "8b4c5191",
   "metadata": {},
   "outputs": [],
   "source": [
    "df.to_csv('GuitarDetails.csv')"
   ]
  },
  {
   "cell_type": "markdown",
   "id": "e4e8e412",
   "metadata": {},
   "source": [
    "### 3. Write a python program to access the search bar and search button on images.google.com and scrape 10 images each for keywords ‘fruits’, ‘cars’ and ‘Machine Learning’, ‘Guitar’, ‘Cakes’."
   ]
  },
  {
   "cell_type": "code",
   "execution_count": 44,
   "id": "89c8e7c2",
   "metadata": {},
   "outputs": [],
   "source": [
    "import selenium\n",
    "import pandas as pd\n",
    "import time\n",
    "from bs4 import BeautifulSoup\n",
    "\n",
    "#Importing selenium webdriver\n",
    "from selenium import webdriver\n",
    "\n",
    "from selenium.common.exceptions import StaleElementReferenceException,NoSuchElementException\n",
    "\n",
    "import requests\n",
    "from selenium.webdriver.common.by import By"
   ]
  },
  {
   "cell_type": "code",
   "execution_count": 45,
   "id": "0b071143",
   "metadata": {},
   "outputs": [
    {
     "name": "stderr",
     "output_type": "stream",
     "text": [
      "C:\\Users\\lenovo\\AppData\\Local\\Temp\\ipykernel_1636\\2226573296.py:1: DeprecationWarning: executable_path has been deprecated, please pass in a Service object\n",
      "  driver=webdriver.Chrome(r\"C:\\Users\\lenovo\\Downloads\\chromedriver_win32\")\n"
     ]
    }
   ],
   "source": [
    "driver=webdriver.Chrome(r\"C:\\Users\\lenovo\\Downloads\\chromedriver_win32\")"
   ]
  },
  {
   "cell_type": "code",
   "execution_count": 46,
   "id": "699eccd0",
   "metadata": {},
   "outputs": [],
   "source": [
    "driver.get(\"https://images.google.com/\")"
   ]
  },
  {
   "cell_type": "code",
   "execution_count": 47,
   "id": "594e7241",
   "metadata": {},
   "outputs": [],
   "source": [
    "#images each for keywords ‘fruits’, ‘cars’ and ‘Machine Learning’, ‘Guitar’, ‘Cakes’.\n",
    "#For fruits\n",
    "#user input\n",
    "lap=driver.find_element(By.XPATH,'/html/body/div[1]/div[3]/form/div[1]/div[1]/div[1]/div/div[2]/textarea')\n",
    "lap.send_keys('fruits')\n",
    "\n",
    "#search button\n",
    "search=driver.find_element(By.XPATH,'/html/body/div[1]/div[3]/form/div[1]/div[1]/div[1]/button/div/span')\n",
    "search.click()\n",
    "\n",
    "for _ in range(20):\n",
    "    driver.execute_script(\"window.scrollBy(0,1000)\")\n",
    "\n",
    "images =driver.find_elements(By.XPATH,'//div[@class=\" bRMDJf islir\"]')\n",
    "\n",
    "img_urls=[]\n",
    "img_data=[]\n",
    "for image in images:\n",
    "    source=image.get_attribute('src')\n",
    "    if source is not None :\n",
    "        if(source[0:4]=='http'):\n",
    "            img_urls.append(source)\n",
    "\n",
    "for i in range(len(img_urls)):\n",
    "    if i>10:\n",
    "        breakBy.XPATH,\n",
    "    print(\"Downloading {0} of {1} images\".format(i,10))\n",
    "    response=requests.get(img_urls[i])\n",
    "    file=open(r\"C:\\Users\\lenovo\"+str(i)+\".jpg\",\"wb\")\n",
    "    file.write(response.content)"
   ]
  },
  {
   "cell_type": "code",
   "execution_count": 49,
   "id": "bc2d7d0a",
   "metadata": {},
   "outputs": [],
   "source": [
    "#For Cars\n",
    "#user input\n",
    "lap=driver.find_element(By.XPATH,'/html/body/div[1]/div[3]/form/div[1]/div[1]/div[1]/div/div[2]/textarea')\n",
    "lap.send_keys('Cars')\n",
    "\n",
    "#search button\n",
    "search=driver.find_element(By.XPATH,'/html/body/div[1]/div[3]/form/div[1]/div[1]/div[1]/button/div/span')\n",
    "search.click()\n",
    "\n",
    "for _ in range(20):\n",
    "    driver.execute_script(\"window.scrollBy(0,1000)\")\n",
    "\n",
    "images =driver.find_elements(By.XPATH,'//div[@class=\" bRMDJf islir\"]')\n",
    "\n",
    "img_urls=[]\n",
    "img_data=[]\n",
    "for image in images:\n",
    "    source=image.get_attribute('src')\n",
    "    if source is not None :\n",
    "        if(source[0:4]=='http'):\n",
    "            img_urls.append(source)\n",
    "\n",
    "for i in range(len(img_urls)):\n",
    "    if i>10:\n",
    "        breakBy.XPATH,\n",
    "    print(\"Downloading {0} of {1} images\".format(i,10))\n",
    "    response=requests.get(img_urls[i])\n",
    "    file=open(r\"C:\\Users\\lenovo\"+str(i)+\".jpg\",\"wb\")\n",
    "    file.write(response.content)"
   ]
  },
  {
   "cell_type": "code",
   "execution_count": null,
   "id": "59c363ba",
   "metadata": {},
   "outputs": [],
   "source": [
    "#For Machine Learning\n",
    "#user input\n",
    "lap=driver.find_element(By.XPATH,'/html/body/div[1]/div[3]/form/div[1]/div[1]/div[1]/div/div[2]/textarea')\n",
    "lap.send_keys('Machine Learning')\n",
    "\n",
    "#search button\n",
    "search=driver.find_element(By.XPATH,'/html/body/div[1]/div[3]/form/div[1]/div[1]/div[1]/button/div/span')\n",
    "search.click()\n",
    "\n",
    "for _ in range(20):\n",
    "    driver.execute_script(\"window.scrollBy(0,1000)\")\n",
    "\n",
    "images =driver.find_elements(By.XPATH,'//div[@class=\" bRMDJf islir\"]')\n",
    "\n",
    "img_urls=[]\n",
    "img_data=[]\n",
    "for image in images:\n",
    "    source=image.get_attribute('src')\n",
    "    if source is not None :\n",
    "        if(source[0:4]=='http'):\n",
    "            img_urls.append(source)\n",
    "\n",
    "for i in range(len(img_urls)):\n",
    "    if i>10:\n",
    "        breakBy.XPATH,\n",
    "    print(\"Downloading {0} of {1} images\".format(i,10))\n",
    "    response=requests.get(img_urls[i])\n",
    "    file=open(r\"C:\\Users\\lenovo\"+str(i)+\".jpg\",\"wb\")\n",
    "    file.write(response.content)"
   ]
  },
  {
   "cell_type": "code",
   "execution_count": null,
   "id": "c5b9e71f",
   "metadata": {},
   "outputs": [],
   "source": [
    "#For Guitar \n",
    "#user input\n",
    "lap=driver.find_element(By.XPATH,'/html/body/div[1]/div[3]/form/div[1]/div[1]/div[1]/div/div[2]/textarea')\n",
    "lap.send_keys('Guitar')\n",
    "\n",
    "#search button\n",
    "search=driver.find_element(By.XPATH,'/html/body/div[1]/div[3]/form/div[1]/div[1]/div[1]/button/div/span')\n",
    "search.click()\n",
    "\n",
    "for _ in range(20):\n",
    "    driver.execute_script(\"window.scrollBy(0,1000)\")\n",
    "\n",
    "images =driver.find_elements(By.XPATH,'//div[@class=\" bRMDJf islir\"]')\n",
    "\n",
    "img_urls=[]\n",
    "img_data=[]\n",
    "for image in images:\n",
    "    source=image.get_attribute('src')\n",
    "    if source is not None :\n",
    "        if(source[0:4]=='http'):\n",
    "            img_urls.append(source)\n",
    "\n",
    "for i in range(len(img_urls)):\n",
    "    if i>10:\n",
    "        breakBy.XPATH,\n",
    "    print(\"Downloading {0} of {1} images\".format(i,10))\n",
    "    response=requests.get(img_urls[i])\n",
    "    file=open(r\"C:\\Users\\lenovo\"+str(i)+\".jpg\",\"wb\")\n",
    "    file.write(response.content)"
   ]
  },
  {
   "cell_type": "code",
   "execution_count": null,
   "id": "c5742eb4",
   "metadata": {},
   "outputs": [],
   "source": [
    "#For Cakes\n",
    "#user input\n",
    "lap=driver.find_element(By.XPATH,'/html/body/div[1]/div[3]/form/div[1]/div[1]/div[1]/div/div[2]/textarea')\n",
    "lap.send_keys('Cakes')\n",
    "\n",
    "#search button\n",
    "search=driver.find_element(By.XPATH,'/html/body/div[1]/div[3]/form/div[1]/div[1]/div[1]/button/div/span')\n",
    "search.click()\n",
    "\n",
    "for _ in range(20):\n",
    "    driver.execute_script(\"window.scrollBy(0,1000)\")\n",
    "\n",
    "images =driver.find_elements(By.XPATH,'//div[@class=\" bRMDJf islir\"]')\n",
    "\n",
    "img_urls=[]\n",
    "img_data=[]\n",
    "for image in images:\n",
    "    source=image.get_attribute('src')\n",
    "    if source is not None :\n",
    "        if(source[0:4]=='http'):\n",
    "            img_urls.append(source)\n",
    "\n",
    "for i in range(len(img_urls)):\n",
    "    if i>10:\n",
    "        breakBy.XPATH,\n",
    "    print(\"Downloading {0} of {1} images\".format(i,10))\n",
    "    response=requests.get(img_urls[i])\n",
    "    file=open(r\"C:\\Users\\lenovo\"+str(i)+\".jpg\",\"wb\")\n",
    "    file.write(response.content)"
   ]
  },
  {
   "cell_type": "markdown",
   "id": "5e9a05be",
   "metadata": {},
   "source": [
    "### Q4 Write a python program to search for a smartphone(e.g.: Oneplus Nord, pixel 4A, etc.) on www.flipkart.com and scrape following details for all the search results displayed on 1st page. Details to be scraped: “Brand Name”, “Smartphone name”, “Colour”, “RAM”, “Storage(ROM)”, “Primary Camera”, “Secondary Camera”, “Display Size”, “Battery Capacity”, “Price”, “Product URL”. Incase if any of the details is missing then replace it by “- “. Save your results in a dataframe and CSV."
   ]
  },
  {
   "cell_type": "code",
   "execution_count": null,
   "id": "923defea",
   "metadata": {},
   "outputs": [],
   "source": [
    "import selenium\n",
    "import pandas as pd\n",
    "import time\n",
    "from bs4 import BeautifulSoup\n",
    "\n",
    "#Importing selenium webdriver\n",
    "from selenium import webdriver\n",
    "\n",
    "from selenium.common.exceptions import StaleElementReferenceException,NoSuchElementException\n",
    "\n",
    "import requests\n",
    "from selenium.webdriver.common.by import By"
   ]
  },
  {
   "cell_type": "code",
   "execution_count": 52,
   "id": "6f0b3833",
   "metadata": {},
   "outputs": [
    {
     "name": "stderr",
     "output_type": "stream",
     "text": [
      "C:\\Users\\lenovo\\AppData\\Local\\Temp\\ipykernel_1636\\2226573296.py:1: DeprecationWarning: executable_path has been deprecated, please pass in a Service object\n",
      "  driver=webdriver.Chrome(r\"C:\\Users\\lenovo\\Downloads\\chromedriver_win32\")\n"
     ]
    }
   ],
   "source": [
    "driver=webdriver.Chrome(r\"C:\\Users\\lenovo\\Downloads\\chromedriver_win32\")"
   ]
  },
  {
   "cell_type": "code",
   "execution_count": 53,
   "id": "d443c84f",
   "metadata": {},
   "outputs": [],
   "source": [
    "driver.get('https://www.flipkart.com/')"
   ]
  },
  {
   "cell_type": "code",
   "execution_count": 54,
   "id": "355155dc",
   "metadata": {},
   "outputs": [],
   "source": [
    "#user input\n",
    "lap=driver.find_element(By.XPATH,'/html/body/div[1]/div/div[1]/div[1]/div[2]/div[2]/form/div/div/input')\n",
    "lap.send_keys('Oneplus Nord')\n",
    "\n",
    "#search button\n",
    "search=driver.find_element(By.XPATH,'/html/body/div[1]/div/div[1]/div[1]/div[2]/div[2]/form/div/button')\n",
    "search.click()"
   ]
  },
  {
   "cell_type": "code",
   "execution_count": 55,
   "id": "09f691e1",
   "metadata": {},
   "outputs": [],
   "source": [
    "#for product urls\n",
    "product_url=[]\n",
    "url=driver.find_elements(By.XPATH,'//a[@class=\"_1fQZEK\"]')\n",
    "for i in url:\n",
    "    product_url.append(i.get_attribute('href'))\n"
   ]
  },
  {
   "cell_type": "code",
   "execution_count": 58,
   "id": "bd9e1f61",
   "metadata": {},
   "outputs": [],
   "source": [
    "Brand=[]\n",
    "Name=[]\n",
    "Color=[]\n",
    "Ram=[]\n",
    "Rom=[]\n",
    "Primary_camera=[]\n",
    "Secondary_camera=[]\n",
    "Display_size=[]\n",
    "Battery=[]\n",
    "Price=[]\n",
    "for i in product_url:\n",
    "    driver.get(i)\n",
    "    time.sleep(2)\n",
    "    #For Brand name\n",
    "    try:\n",
    "        brand=driver.find_element(By.XPATH,'/html/body/div[1]/div/div[3]/div[1]/div[2]/div[3]/div/div[1]/h1/span')\n",
    "        Brand.append(brand.text.split('N')[0])\n",
    "    except NoSuchElementException :\n",
    "        Brand.append('-')\n",
    "     #For Smartphone name\n",
    "    try:\n",
    "        name=driver.find_element(By.XPATH,'/html/body/div[1]/div/div[3]/div[1]/div[2]/div[9]/div[4]/div/div[2]/div/div[1]/table/tbody/tr[3]/td[2]/ul/li')\n",
    "        Name.append(name.text)\n",
    "    except NoSuchElementException :\n",
    "        Name.append('-')\n",
    "     #For Color name\n",
    "    try:\n",
    "        color=driver.find_element(By.XPATH,'/html/body/div[1]/div/div[3]/div[1]/div[2]/div[9]/div[4]/div/div[2]/div/div[1]/table/tbody/tr[4]/td[2]/ul/li')\n",
    "        Color.append(color.text)\n",
    "    except NoSuchElementException :\n",
    "        Color.append('-')\n",
    "     #For Ram\n",
    "    try:\n",
    "        ram=driver.find_element(By.XPATH,'/html/body/div[1]/div/div[3]/div[1]/div[2]/div[8]/div[1]/div/div[2]/ul/li[1]')\n",
    "        Ram.append(ram.text.split('|')[0])\n",
    "    except NoSuchElementException :\n",
    "        Ram.append('-')\n",
    "    #For Rom\n",
    "    try:\n",
    "        rom=driver.find_element(By.XPATH,'/html/body/div[1]/div/div[3]/div[1]/div[2]/div[8]/div[1]/div/div[2]/ul/li[1]')\n",
    "        Rom.append(rom.text.split('|')[1])\n",
    "    except NoSuchElementException :\n",
    "        Rom.append('-')\n",
    "     #For Primary Camera\n",
    "    try:\n",
    "        camera=driver.find_element(By.XPATH,'/html/body/div[1]/div/div[3]/div[1]/div[2]/div[8]/div[1]/div/div[2]/ul/li[3]')\n",
    "        Primary_camera.append(camera.text.split('R')[0])\n",
    "    except NoSuchElementException :\n",
    "        Primary_camera.append('-')\n",
    "     #For Display_size\n",
    "    try:\n",
    "        size=driver.find_element(By.XPATH,'/html/body/div[1]/div/div[3]/div[1]/div[2]/div[8]/div[1]/div/div[2]/ul/li[2]')\n",
    "        Display_size.append(size.text.split('D')[0])\n",
    "    except NoSuchElementException :\n",
    "        Display_size.append('-')\n",
    "     #For Battery\n",
    "    try:\n",
    "        battery=driver.find_element(By.XPATH,'/html/body/div[1]/div/div[3]/div[1]/div[2]/div[8]/div[1]/div/div[2]/ul/li[4]')\n",
    "        Battery.append(battery.text)\n",
    "    except NoSuchElementException :\n",
    "        Battery.append('-')\n",
    "     #For Price\n",
    "    try:\n",
    "        price=driver.find_element(By.XPATH,'/html/body/div[1]/div/div[3]/div[1]/div[2]/div[3]/div/div[4]/div[1]/div/div[1]')\n",
    "        Price.append(price.text)\n",
    "    except NoSuchElementException :\n",
    "        Price.append('-')"
   ]
  },
  {
   "cell_type": "code",
   "execution_count": 66,
   "id": "44f9cbf6",
   "metadata": {},
   "outputs": [],
   "source": [
    "df=pd.DataFrame({'Brand Name':Brand,'Smartphone Namet':Name,'Colour':Color,'Ram':Ram,'Storage':Rom,'Primary Camera':Primary_camera,'Display Size':Display_size,'Battery':Battery,'Price':Price,'Product URL':product_url})"
   ]
  },
  {
   "cell_type": "code",
   "execution_count": 68,
   "id": "418d21f5",
   "metadata": {},
   "outputs": [],
   "source": [
    "df.to_csv('PhoneDetails.csv')"
   ]
  },
  {
   "cell_type": "markdown",
   "id": "77526dd5",
   "metadata": {},
   "source": [
    "### 5. Write a program to scrap geospatial coordinates (latitude, longitude) of a city searched on google maps."
   ]
  },
  {
   "cell_type": "code",
   "execution_count": 98,
   "id": "d870cd1d",
   "metadata": {},
   "outputs": [],
   "source": [
    "import selenium\n",
    "import pandas as pd\n",
    "import time\n",
    "from bs4 import BeautifulSoup\n",
    "\n",
    "#Importing selenium webdriver\n",
    "from selenium import webdriver\n",
    "\n",
    "from selenium.common.exceptions import StaleElementReferenceException,NoSuchElementException\n",
    "\n",
    "import requests\n",
    "from selenium.webdriver.common.by import By"
   ]
  },
  {
   "cell_type": "code",
   "execution_count": 99,
   "id": "4adaee93",
   "metadata": {},
   "outputs": [
    {
     "name": "stderr",
     "output_type": "stream",
     "text": [
      "C:\\Users\\lenovo\\AppData\\Local\\Temp\\ipykernel_1636\\2226573296.py:1: DeprecationWarning: executable_path has been deprecated, please pass in a Service object\n",
      "  driver=webdriver.Chrome(r\"C:\\Users\\lenovo\\Downloads\\chromedriver_win32\")\n"
     ]
    }
   ],
   "source": [
    "driver=webdriver.Chrome(r\"C:\\Users\\lenovo\\Downloads\\chromedriver_win32\")"
   ]
  },
  {
   "cell_type": "code",
   "execution_count": 100,
   "id": "50975cdf",
   "metadata": {},
   "outputs": [],
   "source": [
    "# We gonna search for delhi city on google maps\n",
    "driver.get('https://www.google.com/maps/place/Delhi/@28.6442874,76.7635802,10z/data=!3m1!4b1!4m6!3m5!1s0x390cfd5b347eb62d:0x37205b715389640!8m2!3d28.7040592!4d77.1024902!16zL20vMDlmMDc')"
   ]
  },
  {
   "cell_type": "code",
   "execution_count": null,
   "id": "21357c70",
   "metadata": {},
   "outputs": [],
   "source": [
    "try:\n",
    "    url_string=driver.current_url\n",
    "    print(\"Url Extracted:\",url_string)\n",
    "    lat_lng=re.findall(r'@(.*)data',url_string)\n",
    "except NoSuchElementException :\n",
    "        lat_lng.append('-')\n",
    "latitude=lat_lng.split(',')[0]\n",
    "longitude=lat_lng.split(',')[1].split(',')[0]"
   ]
  },
  {
   "cell_type": "markdown",
   "id": "24590463",
   "metadata": {},
   "source": [
    "### 6. Write a program to scrap all the available details of best gaming laptops from digit.in."
   ]
  },
  {
   "cell_type": "code",
   "execution_count": 73,
   "id": "927eac75",
   "metadata": {},
   "outputs": [],
   "source": [
    "import selenium\n",
    "import pandas as pd\n",
    "import time\n",
    "from bs4 import BeautifulSoup\n",
    "\n",
    "#Importing selenium webdriver\n",
    "from selenium import webdriver\n",
    "\n",
    "from selenium.common.exceptions import StaleElementReferenceException,NoSuchElementException\n",
    "\n",
    "import requests\n",
    "from selenium.webdriver.common.by import By"
   ]
  },
  {
   "cell_type": "code",
   "execution_count": 74,
   "id": "4a99d621",
   "metadata": {},
   "outputs": [
    {
     "name": "stderr",
     "output_type": "stream",
     "text": [
      "C:\\Users\\lenovo\\AppData\\Local\\Temp\\ipykernel_1636\\2226573296.py:1: DeprecationWarning: executable_path has been deprecated, please pass in a Service object\n",
      "  driver=webdriver.Chrome(r\"C:\\Users\\lenovo\\Downloads\\chromedriver_win32\")\n"
     ]
    }
   ],
   "source": [
    "driver=webdriver.Chrome(r\"C:\\Users\\lenovo\\Downloads\\chromedriver_win32\")"
   ]
  },
  {
   "cell_type": "code",
   "execution_count": 75,
   "id": "750af634",
   "metadata": {},
   "outputs": [],
   "source": [
    "driver.get('https://www.digit.in/top-products/best-gaming-laptops-40.html')"
   ]
  },
  {
   "cell_type": "code",
   "execution_count": 79,
   "id": "eb0af8c6",
   "metadata": {},
   "outputs": [],
   "source": [
    "#for Laptop's urls\n",
    "product_url=[]\n",
    "url=driver.find_elements(By.XPATH,'//div[@class=\"specfpro_details_cont\"]/div/div/span[2]')\n",
    "for i in url:\n",
    "    product_url.append(i.get_attribute('data-href'))\n",
    "    \n",
    "    "
   ]
  },
  {
   "cell_type": "code",
   "execution_count": 83,
   "id": "517d333d",
   "metadata": {},
   "outputs": [],
   "source": [
    "Brand=[]\n",
    "Model=[]\n",
    "OS=[]\n",
    "Storage_type=[]\n",
    "Storage=[]\n",
    "Ram=[]\n",
    "Ram_type=[]\n",
    "\n",
    "\n",
    "for i in product_url:\n",
    "    driver.get(i)\n",
    "    time.sleep(2)\n",
    "    #For Brand name\n",
    "    try:\n",
    "        brand=driver.find_element(By.XPATH,'/html/body/div[7]/div[2]/div[2]')\n",
    "        Brand.append(brand.text.split(' ')[0])\n",
    "    except NoSuchElementException :\n",
    "        Brand.append('-')\n",
    "    #For Model name\n",
    "    try:\n",
    "        model=driver.find_element(By.XPATH,'//div[@class=\"remaining-details\"]/table/tbody/tr/td[3]')\n",
    "        Model.append(model.text)\n",
    "    except NoSuchElementException :\n",
    "        Model.append('-')\n",
    "     #For Operating System name\n",
    "    try:\n",
    "        os=driver.find_element(By.XPATH,'//div[@class=\"remaining-details\"]/table/tbody/tr[3]/td[3]')\n",
    "        OS.append(os.text)\n",
    "    except NoSuchElementException :\n",
    "        OS.append('-')\n",
    "      #For Storage Type name\n",
    "    try:\n",
    "        storage_type=driver.find_element(By.XPATH,'//div[@class=\"speci_details\"]/div[2]/div/table/tbody/tr/td[3]')\n",
    "        Storage_type.append(storage_type.text)\n",
    "    except NoSuchElementException :\n",
    "        Storage_type.append('-')\n",
    "     #For Storage\n",
    "    try:\n",
    "        storage=driver.find_element(By.XPATH,'//div[@class=\"speci_details\"]/div[2]/div/table/tbody/tr[2]/td[3]')\n",
    "        Storage.append(storage.text)\n",
    "    except NoSuchElementException :\n",
    "        Storage.append('-')\n",
    "\n",
    "      #For Ram Type name\n",
    "    try:\n",
    "        ram_type=driver.find_element(By.XPATH,'//div[@class=\"speci_details\"]/div/div[4]/table/tbody/tr[2]/td[3]')\n",
    "        Ram_type.append(ram_type.text)\n",
    "    except NoSuchElementException :\n",
    "        Ram_type.append('-')\n",
    "    #For Ram\n",
    "    try:\n",
    "        ram=driver.find_element(By.XPATH,'//div[@class=\"speci_details\"]/div/div[4]/table/tbody/tr/td[3]')\n",
    "        Ram.append(ram.text)\n",
    "    except NoSuchElementException :\n",
    "        Ram.append('-')"
   ]
  },
  {
   "cell_type": "code",
   "execution_count": 86,
   "id": "fcbc4055",
   "metadata": {},
   "outputs": [],
   "source": [
    "df=pd.DataFrame({'Brand':Brand,'Laptop Model':Model,'Operating System':OS,'Storage Type':Storage_type,'Storage':Storage,'Ram':Ram,'Ram Type':Ram_type})"
   ]
  },
  {
   "cell_type": "markdown",
   "id": "78f89f55",
   "metadata": {},
   "source": [
    "### 7. Write a python program to scrape the details for all billionaires from www.forbes.com. Details to be scrapped: “Rank”, “Name”, “Net worth”, “Age”, “Citizenship”, “Source”, “Industry”."
   ]
  },
  {
   "cell_type": "code",
   "execution_count": 88,
   "id": "6d426409",
   "metadata": {},
   "outputs": [],
   "source": [
    "import selenium\n",
    "import pandas as pd\n",
    "import time\n",
    "from bs4 import BeautifulSoup\n",
    "\n",
    "#Importing selenium webdriver\n",
    "from selenium import webdriver\n",
    "\n",
    "from selenium.common.exceptions import StaleElementReferenceException,NoSuchElementException\n",
    "\n",
    "import requests\n",
    "from selenium.webdriver.common.by import By"
   ]
  },
  {
   "cell_type": "code",
   "execution_count": 89,
   "id": "181b4813",
   "metadata": {},
   "outputs": [
    {
     "name": "stderr",
     "output_type": "stream",
     "text": [
      "C:\\Users\\lenovo\\AppData\\Local\\Temp\\ipykernel_1636\\2226573296.py:1: DeprecationWarning: executable_path has been deprecated, please pass in a Service object\n",
      "  driver=webdriver.Chrome(r\"C:\\Users\\lenovo\\Downloads\\chromedriver_win32\")\n"
     ]
    }
   ],
   "source": [
    "driver=webdriver.Chrome(r\"C:\\Users\\lenovo\\Downloads\\chromedriver_win32\")"
   ]
  },
  {
   "cell_type": "code",
   "execution_count": 90,
   "id": "746aa310",
   "metadata": {},
   "outputs": [],
   "source": [
    "driver.get('https://www.forbes.com/billionaires/')"
   ]
  },
  {
   "cell_type": "code",
   "execution_count": null,
   "id": "7d7eb0d6",
   "metadata": {},
   "outputs": [],
   "source": [
    "Rank=[]\n",
    "Name=[]\n",
    "Net_Worth=[]\n",
    "Age=[]\n",
    "Citizenship=[]\n",
    "Source=[]\n",
    "Industry=[]\n",
    "#For Rank name\n",
    "    try:\n",
    "        rank=driver.find_element(By.XPATH,'//div[@class=\"Table_rank___YBhk Table_dataCell__2QCve\"]')\n",
    "        Rank.append(rank.text)\n",
    "    except NoSuchElementException :\n",
    "        Rank.append('-')\n",
    "#For name\n",
    "    try:\n",
    "        name=driver.find_element(By.XPATH,'//div[@class=\"Table_dataCell__2QCve\"]')\n",
    "        Name.append(name.text)\n",
    "    except NoSuchElementException :\n",
    "        Name.append('-')\n",
    "#For Net_Worth name\n",
    "    try:\n",
    "        net_worth=driver.find_element(By.XPATH,'//div[@class=\"Table_netWorth___L4R5 Table_dataCell__2QCve\"]')\n",
    "        Net_Worth.append(net_worth.text)\n",
    "    except NoSuchElementException :\n",
    "        Net_Worth.append('-')\n",
    "#For Age \n",
    "    try:\n",
    "        age=driver.find_element(By.XPATH,'/html/body/div[1]/div[2]/div[3]/div[2]/div[2]/div[2]/div[1]/div[1]/div[1]/div[2]/div[1]/div/div[4]/div')\n",
    "        Age.append(age.text)\n",
    "    except NoSuchElementException :\n",
    "        Age.append('-')\n",
    "#For Citizenship\n",
    "    try:\n",
    "        citizenship=driver.find_element(By.XPATH,'//div[@class=\"TableRow_cell__db-hv Table_cell__houv9\"]')\n",
    "        Citizenship.append(citizenship.text)\n",
    "    except NoSuchElementException :\n",
    "        Citizenship.append('-')\n",
    "#For Source \n",
    "    try:\n",
    "        source=driver.find_element(By.XPATH,'//div[@class=\"Table_dataCell__2QCve\"]')\n",
    "        Source.append(source.text)\n",
    "    except NoSuchElementException :\n",
    "        Source.append('-')\n",
    "#For Industry \n",
    "    try:\n",
    "        industry=driver.find_element(By.XPATH,'//*[@id=\"bernard-arnault\"]/div[7]/div')\n",
    "        Industry.append(industry.text)\n",
    "    except NoSuchElementException :\n",
    "        Industry.append('-')"
   ]
  },
  {
   "cell_type": "markdown",
   "id": "a298dba7",
   "metadata": {},
   "source": [
    "### 8. Write a program to extract at least 500 Comments, Comment upvote and time when comment was posted from any YouTube Video."
   ]
  },
  {
   "cell_type": "code",
   "execution_count": null,
   "id": "c1a11ec9",
   "metadata": {},
   "outputs": [],
   "source": []
  },
  {
   "cell_type": "code",
   "execution_count": 91,
   "id": "0c74859e",
   "metadata": {},
   "outputs": [],
   "source": [
    "import selenium\n",
    "import pandas as pd\n",
    "import time\n",
    "from bs4 import BeautifulSoup\n",
    "\n",
    "#Importing selenium webdriver\n",
    "from selenium import webdriver\n",
    "\n",
    "from selenium.common.exceptions import StaleElementReferenceException,NoSuchElementException\n",
    "\n",
    "import requests\n",
    "from selenium.webdriver.common.by import By"
   ]
  },
  {
   "cell_type": "code",
   "execution_count": 93,
   "id": "126ecb40",
   "metadata": {},
   "outputs": [
    {
     "name": "stderr",
     "output_type": "stream",
     "text": [
      "C:\\Users\\lenovo\\AppData\\Local\\Temp\\ipykernel_1636\\2421393482.py:1: DeprecationWarning: executable_path has been deprecated, please pass in a Service object\n",
      "  driver=webdriver.Chrome(r\"C:\\Users\\lenovo\\Downloads\\chromedriver_win32\")\n"
     ]
    }
   ],
   "source": [
    "driver=webdriver.Chrome(r\"C:\\Users\\lenovo\\Downloads\\chromedriver_win32\")\n",
    "driver.get('https://www.youtube.com/watch?v=ajeTYqhRHno')"
   ]
  },
  {
   "cell_type": "code",
   "execution_count": null,
   "id": "0dcb3543",
   "metadata": {},
   "outputs": [],
   "source": [
    "for _ in range(20):\n",
    "    driver.execute_script(\"window.scrollBy(0,1000)\")\n",
    "comment=[]\n",
    "upvote=[]\n",
    "time=[]\n",
    "comments =driver.find_elements(By.XPATH,'//yt-formatted-string[@id=\"content-text\"]') \n",
    "for i in comments[0:500]:\n",
    "    comment.append(i.text)\n",
    "\n",
    "up =driver.find_elements(By.XPATH,'//span[@id=\"vote-count-middle\"]') \n",
    "for i in up[0:500]:\n",
    "    upvote.append(i.text)\n",
    "\n",
    "t =driver.find_elements(By.XPATH,'//yt-formatted-string[@class=\"published-time-text style-scope ytd-comment-renderer\"]') \n",
    "for i in t[0:500]:\n",
    "    time.append(i.text)"
   ]
  },
  {
   "cell_type": "code",
   "execution_count": null,
   "id": "290ea673",
   "metadata": {},
   "outputs": [],
   "source": [
    "df=pd.DataFrame=({'Comments':comment,'Comment upvote':upvote,'time':time})"
   ]
  },
  {
   "cell_type": "markdown",
   "id": "f90fe40f",
   "metadata": {},
   "source": [
    "### 9. Write a python program to scrape a data for all available Hostels from https://www.hostelworld.com/ in “London” location. You have to scrape hostel name, distance from city centre, ratings, total reviews, overall reviews, privates from price, dorms from price, facilities and property description."
   ]
  },
  {
   "cell_type": "code",
   "execution_count": null,
   "id": "db9ff574",
   "metadata": {},
   "outputs": [],
   "source": [
    "import selenium\n",
    "import pandas as pd\n",
    "import time\n",
    "from bs4 import BeautifulSoup\n",
    "\n",
    "#Importing selenium webdriver\n",
    "from selenium import webdriver\n",
    "\n",
    "from selenium.common.exceptions import StaleElementReferenceException,NoSuchElementException\n",
    "\n",
    "import requests\n",
    "from selenium.webdriver.common.by import By"
   ]
  },
  {
   "cell_type": "code",
   "execution_count": 97,
   "id": "36dcf175",
   "metadata": {},
   "outputs": [
    {
     "name": "stderr",
     "output_type": "stream",
     "text": [
      "C:\\Users\\lenovo\\AppData\\Local\\Temp\\ipykernel_1636\\2705041224.py:1: DeprecationWarning: executable_path has been deprecated, please pass in a Service object\n",
      "  driver=webdriver.Chrome(r\"C:\\Users\\lenovo\\Downloads\\chromedriver_win32\")\n"
     ]
    }
   ],
   "source": [
    "driver=webdriver.Chrome(r\"C:\\Users\\lenovo\\Downloads\\chromedriver_win32\")\n",
    "driver.get('https://www.hostelworld.com/s?q=London,%20England&country=London&city=London&type=city&id=3&from=2023-05-20&to=2023-05-23&guests=2&page=1')"
   ]
  },
  {
   "cell_type": "code",
   "execution_count": 95,
   "id": "60334a18",
   "metadata": {},
   "outputs": [],
   "source": [
    "\n",
    "#for hostel urls\n",
    "hostel_url=[]\n",
    "url=driver.find_elements(By.XPATH,'//a[@class=\"property-card-container horizontal\"]')\n",
    "for i in url:\n",
    "    hostel_url.append(i.get_attribute('href'))"
   ]
  },
  {
   "cell_type": "code",
   "execution_count": null,
   "id": "03b7edb5",
   "metadata": {},
   "outputs": [],
   "source": [
    "Hostel_name=[]\n",
    "Distance=[]\n",
    "Rating=[]\n",
    "Reviews=[]\n",
    "Property_Description=[]\n",
    "\n",
    "\n",
    "name=driver.find_element(By.XPATH,'//h2[@class=\"title title-6\"]/a')\n",
    "for i in distance:\n",
    "    Hostel_name.append(i.text)\n",
    "distance=driver.find_element(By.XPATH,'//a[@class=\"show-on-map\"]/span/span')\n",
    "for i in distance:\n",
    "    Distance.append(i.text)\n",
    "rating=driver.find_element(By.XPATH,'//div[@class=\"rating rating-summary-container big\"]/div')\n",
    "for i in rating:\n",
    "    Rating.append(i.text)\n",
    "\n",
    "for i in product_url:\n",
    "    driver.get(i)\n",
    "    time.sleep(2)\n",
    "    #For Brand name\n",
    "    try:\n",
    "        reviews=driver.find_element(By.XPATH,'//div[@class=\"summary orange\"]/div[2]')\n",
    "        Reviews.append(reviews.text)\n",
    "    except NoSuchElementException :\n",
    "        Reviews.append('-')\\\n",
    "    try:\n",
    "        des=driver.find_element(By.XPATH,'/html/body/div[3]/div/div/div[2]/section/div[6]/div/div[2]/div/div/div[2]')\n",
    "        Property_Description.append(des.text)\n",
    "    except NoSuchElementException :\n",
    "        Property_Description.append('-')"
   ]
  },
  {
   "cell_type": "code",
   "execution_count": null,
   "id": "546b6e13",
   "metadata": {},
   "outputs": [],
   "source": [
    "df=pd.DataFrame({'hostel':Hostel_name,'Distance from city':Distance,'Rating':Rating,'Total Reviews':Reviews,'Property Description':Property_Description})"
   ]
  }
 ],
 "metadata": {
  "kernelspec": {
   "display_name": "Python 3 (ipykernel)",
   "language": "python",
   "name": "python3"
  },
  "language_info": {
   "codemirror_mode": {
    "name": "ipython",
    "version": 3
   },
   "file_extension": ".py",
   "mimetype": "text/x-python",
   "name": "python",
   "nbconvert_exporter": "python",
   "pygments_lexer": "ipython3",
   "version": "3.9.12"
  }
 },
 "nbformat": 4,
 "nbformat_minor": 5
}
